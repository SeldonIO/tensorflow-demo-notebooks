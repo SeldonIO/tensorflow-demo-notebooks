{
 "cells": [
  {
   "cell_type": "markdown",
   "metadata": {},
   "source": [
    "## Loading pretrained model from docker image"
   ]
  },
  {
   "cell_type": "code",
   "execution_count": null,
   "metadata": {
    "collapsed": false
   },
   "outputs": [],
   "source": [
    "!kubectl create -f /home/ubuntu/git/seldon-server/kubernetes/conf/examples/tensorflow_deep_mnist/load-model-tensorflow-deep-mnist.json"
   ]
  },
  {
   "cell_type": "markdown",
   "metadata": {},
   "source": [
    "## Creating Seldon Client"
   ]
  },
  {
   "cell_type": "code",
   "execution_count": null,
   "metadata": {
    "collapsed": false
   },
   "outputs": [],
   "source": [
    "!/home/ubuntu/git/seldon-server/kubernetes/bin/seldon-cli client --action setup --db-name ClientDB --client-name deep_mnist_client"
   ]
  },
  {
   "cell_type": "markdown",
   "metadata": {},
   "source": [
    "## Starting Prediction Microservice"
   ]
  },
  {
   "cell_type": "code",
   "execution_count": null,
   "metadata": {
    "collapsed": false
   },
   "outputs": [],
   "source": [
    "!/home/ubuntu/git/seldon-server/kubernetes/bin/run_prediction_pipeline_microservice.sh tensorflow-deep-mnist /seldon-data/seldon-models/tensorflow_deep_mnist/1/ deep_mnist_client 1"
   ]
  },
  {
   "cell_type": "markdown",
   "metadata": {},
   "source": [
    "## Starting Webapp"
   ]
  },
  {
   "cell_type": "code",
   "execution_count": null,
   "metadata": {
    "collapsed": false,
    "scrolled": true
   },
   "outputs": [],
   "source": [
    "!/home/ubuntu/git/seldon-server/kubernetes/bin/seldon-cli keys  --client-name deep_mnist_client --scope all"
   ]
  },
  {
   "cell_type": "code",
   "execution_count": null,
   "metadata": {
    "collapsed": false
   },
   "outputs": [],
   "source": [
    "!kubectl get services seldon-server"
   ]
  },
  {
   "cell_type": "code",
   "execution_count": null,
   "metadata": {
    "collapsed": false
   },
   "outputs": [],
   "source": [
    "# Now we launch the webapp from the docker image, after replacing the ip, key and secret in this order\n",
    "!kubectl run deep-mnist-webapp \\\n",
    "    --image=seldonio/deep_mnist_webapp:1.0 \\\n",
    "    --port=80 \\\n",
    "    --command -- \"/run_webapp.sh\" \"IP_HERE\" \"KEY_HERE\" \"SECRET_HERE\""
   ]
  },
  {
   "cell_type": "code",
   "execution_count": null,
   "metadata": {
    "collapsed": false
   },
   "outputs": [],
   "source": [
    "# Finally, we expose the webapp externally. This should take a minute or two\n",
    "!kubectl expose deployment/deep-mnist-webapp --type=\"LoadBalancer\""
   ]
  },
  {
   "cell_type": "code",
   "execution_count": null,
   "metadata": {
    "collapsed": false
   },
   "outputs": [],
   "source": [
    "# Use this command to find out the external ip as soon as it becomes available\n",
    "!kubectl get services deep-mnist-webapp"
   ]
  },
  {
   "cell_type": "code",
   "execution_count": null,
   "metadata": {
    "collapsed": true
   },
   "outputs": [],
   "source": []
  }
 ],
 "metadata": {
  "anaconda-cloud": {},
  "kernelspec": {
   "display_name": "Python [Root]",
   "language": "python",
   "name": "Python [Root]"
  },
  "language_info": {
   "codemirror_mode": {
    "name": "ipython",
    "version": 2
   },
   "file_extension": ".py",
   "mimetype": "text/x-python",
   "name": "python",
   "nbconvert_exporter": "python",
   "pygments_lexer": "ipython2",
   "version": "2.7.12"
  }
 },
 "nbformat": 4,
 "nbformat_minor": 0
}
