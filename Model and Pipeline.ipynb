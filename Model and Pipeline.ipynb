{
 "cells": [
  {
   "cell_type": "code",
   "execution_count": null,
   "metadata": {
    "collapsed": false
   },
   "outputs": [],
   "source": [
    "from tensorflow.examples.tutorials.mnist import input_data\n",
    "mnist = input_data.read_data_sets(\"MNIST_data/\", one_hot = True)\n",
    "import tensorflow as tf\n",
    "from seldon.tensorflow_wrapper import TensorFlowWrapper\n",
    "from sklearn.pipeline import Pipeline\n",
    "import seldon.pipeline.util as sutl"
   ]
  },
  {
   "cell_type": "code",
   "execution_count": null,
   "metadata": {
    "collapsed": false
   },
   "outputs": [],
   "source": [
    "import matplotlib.pyplot as plt\n",
    "import matplotlib.cm as cmap\n",
    "import matplotlib.gridspec as gridspec\n",
    "%matplotlib inline\n",
    "\n",
    "nh = 6\n",
    "nv = 4\n",
    "\n",
    "gs = gridspec.GridSpec(nv, nh, top=1., bottom=0., right=1., left=0., hspace=0.,\n",
    "        wspace=0.)\n",
    "\n",
    "for g,im in zip(gs,mnist.train.images[:nv*nh]):\n",
    "    ax = plt.subplot(g)\n",
    "    ax.imshow(im.reshape((28,28)),cmap=cmap.Greys)\n",
    "    ax.set_xticks([])\n",
    "    ax.set_yticks([])\n",
    "    ax.set_aspect('auto')\n"
   ]
  },
  {
   "cell_type": "code",
   "execution_count": null,
   "metadata": {
    "collapsed": true
   },
   "outputs": [],
   "source": [
    "def weight_variable(shape,name):\n",
    "    initial = tf.truncated_normal(shape, stddev=0.1)\n",
    "    return tf.Variable(initial,name=name)\n",
    "\n",
    "def bias_variable(shape,name):\n",
    "    initial = tf.constant(0.1, shape=shape)\n",
    "    return tf.Variable(initial,name=name)\n",
    "\n",
    "def conv2d(x, W, name):\n",
    "    return tf.nn.conv2d(x, W, strides=[1, 1, 1, 1], padding='SAME',name=name)\n",
    "\n",
    "def max_pool_2x2(x,name):\n",
    "    return tf.nn.max_pool(x, ksize=[1, 2, 2, 1], strides=[1, 2, 2, 1], padding='SAME', name=name)"
   ]
  },
  {
   "cell_type": "markdown",
   "metadata": {},
   "source": [
    "## Creating Model"
   ]
  },
  {
   "cell_type": "code",
   "execution_count": null,
   "metadata": {
    "collapsed": true
   },
   "outputs": [],
   "source": [
    "x = tf.placeholder(tf.float32, [None,784], name='x')\n",
    "\n",
    "W_conv1 = weight_variable([5, 5, 1, 32], 'W_conv1')\n",
    "b_conv1 = bias_variable([32], 'b_conv1')\n",
    "\n",
    "x_image = tf.reshape(x, [-1,28,28,1], name='x_image')\n",
    "\n",
    "h_conv1 = tf.nn.relu(conv2d(x_image, W_conv1,'conv1') + b_conv1, name='h_conv1')\n",
    "h_pool1 = max_pool_2x2(h_conv1, name='h_pool1')\n",
    "\n",
    "W_conv2 = weight_variable([5, 5, 32, 64], 'W_conv2')\n",
    "b_conv2 = bias_variable([64], 'b_conv2')\n",
    "\n",
    "h_conv2 = tf.nn.relu(conv2d(h_pool1, W_conv2, 'conv2') + b_conv2, name='h_conv2')\n",
    "h_pool2 = max_pool_2x2(h_conv2, name='h_pool2')\n",
    "\n",
    "W_fc1 = weight_variable([7 * 7 * 64, 1024], 'W_fc1')\n",
    "b_fc1 = bias_variable([1024], 'b_fc1')\n",
    "\n",
    "h_pool2_flat = tf.reshape(h_pool2, [-1, 7*7*64], name='h_pool2_flat')\n",
    "h_fc1 = tf.nn.relu(tf.matmul(h_pool2_flat, W_fc1) + b_fc1, name='h_fc1')\n",
    "\n",
    "keep_prob = tf.placeholder(tf.float32, name='keep_prob')\n",
    "h_fc1_drop = tf.nn.dropout(h_fc1, keep_prob, name='h_fc1_drop')\n",
    "\n",
    "W_fc2 = weight_variable([1024, 10], 'W_fc2')\n",
    "b_fc2 = bias_variable([10], 'b_fc2')\n",
    "\n",
    "y_conv=tf.nn.softmax(tf.matmul(h_fc1_drop, W_fc2) + b_fc2, name='y_conv')\n",
    "\n",
    "y_ = tf.placeholder(tf.float32, [None, 10], name='y_')\n",
    "\n",
    "\n",
    "cross_entropy = tf.reduce_mean(-tf.reduce_sum(y_ * tf.log(y_conv), reduction_indices=[1]), name='cross_entropy')\n",
    "tf.scalar_summary('cross entropy', cross_entropy)\n",
    "\n",
    "train_step = tf.train.AdamOptimizer(1e-4).minimize(cross_entropy)\n",
    "\n",
    "correct_prediction = tf.equal(tf.argmax(y_conv,1), tf.argmax(y_,1), name='correct_prediction')\n",
    "accuracy = tf.reduce_mean(tf.cast(correct_prediction, tf.float32), name='accuracy')\n",
    "tf.scalar_summary('accuracy', accuracy)\n",
    "\n",
    "merged_summaries = tf.merge_all_summaries()\n",
    "init = tf.initialize_all_variables()\n",
    "\n",
    "sess = tf.Session()\n",
    "\n",
    "train_writer = tf.train.SummaryWriter('summaries/train',sess.graph)\n",
    "test_writer = tf.train.SummaryWriter('summaries/test')\n"
   ]
  },
  {
   "cell_type": "code",
   "execution_count": null,
   "metadata": {
    "collapsed": true
   },
   "outputs": [],
   "source": [
    "sess.run(init)"
   ]
  },
  {
   "cell_type": "markdown",
   "metadata": {},
   "source": [
    "## Training Model"
   ]
  },
  {
   "cell_type": "code",
   "execution_count": null,
   "metadata": {
    "collapsed": false
   },
   "outputs": [],
   "source": [
    "for i in range(5000):\n",
    "        batch_xs, batch_ys = mnist.train.next_batch(50)\n",
    "        if i%20 == 0:\n",
    "            summary,test_accuracy = sess.run([merged_summaries,accuracy],feed_dict={x: mnist.test.images, y_: mnist.test.labels, keep_prob:1.0})\n",
    "            test_writer.add_summary(summary, i)\n",
    "            print(\"step %d, test accuracy %.3f\"%(i, test_accuracy))\n",
    "        summary,_ = sess.run([merged_summaries,train_step], feed_dict={x: batch_xs, y_: batch_ys, keep_prob: 0.5})\n",
    "        train_writer.add_summary(summary,i)\n",
    "\n",
    "print(\"test accuracy %g\"%sess.run(accuracy,feed_dict={x: mnist.test.images, y_: mnist.test.labels, keep_prob: 1.0}))"
   ]
  },
  {
   "cell_type": "markdown",
   "metadata": {},
   "source": [
    "## Creating and Saving Seldon Pipeline"
   ]
  },
  {
   "cell_type": "code",
   "execution_count": null,
   "metadata": {
    "collapsed": true
   },
   "outputs": [],
   "source": [
    "tfw = TensorFlowWrapper(sess,tf_input=x,tf_output=y_conv,tf_constants=[(keep_prob,1.0)],target=\"y\",target_readable=\"class\",excluded=['class'])\n",
    "\n",
    "p = Pipeline([('deep_classifier',tfw)])\n",
    "\n",
    "saver = sutl.PipelineWrapper()\n",
    "\n",
    "saver.save_pipeline(p,'tensorflow_deep_mnist_model')"
   ]
  },
  {
   "cell_type": "code",
   "execution_count": null,
   "metadata": {
    "collapsed": true
   },
   "outputs": [],
   "source": []
  },
  {
   "cell_type": "code",
   "execution_count": null,
   "metadata": {
    "collapsed": true
   },
   "outputs": [],
   "source": []
  },
  {
   "cell_type": "code",
   "execution_count": null,
   "metadata": {
    "collapsed": true
   },
   "outputs": [],
   "source": []
  },
  {
   "cell_type": "markdown",
   "metadata": {},
   "source": [
    "## Starting TensorBoard"
   ]
  },
  {
   "cell_type": "code",
   "execution_count": null,
   "metadata": {
    "collapsed": false
   },
   "outputs": [],
   "source": [
    "# To execute in a terminal window (blocking process)\n",
    "%%bash\n",
    "tensorboard --logdir=summaries --port=25002 --reload_interval=2"
   ]
  },
  {
   "cell_type": "code",
   "execution_count": null,
   "metadata": {
    "collapsed": true
   },
   "outputs": [],
   "source": []
  }
 ],
 "metadata": {
  "anaconda-cloud": {},
  "kernelspec": {
   "display_name": "Python [tensorflow]",
   "language": "python",
   "name": "Python [tensorflow]"
  },
  "language_info": {
   "codemirror_mode": {
    "name": "ipython",
    "version": 2
   },
   "file_extension": ".py",
   "mimetype": "text/x-python",
   "name": "python",
   "nbconvert_exporter": "python",
   "pygments_lexer": "ipython2",
   "version": "2.7.12"
  }
 },
 "nbformat": 4,
 "nbformat_minor": 1
}
