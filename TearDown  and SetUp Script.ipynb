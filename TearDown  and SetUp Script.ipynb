{
 "cells": [
  {
   "cell_type": "markdown",
   "metadata": {},
   "source": [
    "# Tear Down"
   ]
  },
  {
   "cell_type": "markdown",
   "metadata": {},
   "source": [
    "We start by deleting the current cluster"
   ]
  },
  {
   "cell_type": "code",
   "execution_count": null,
   "metadata": {
    "collapsed": false
   },
   "outputs": [],
   "source": [
    "!gcloud container --project \"seldon-demo\" clusters delete seldon-demo-cluster --quiet"
   ]
  },
  {
   "cell_type": "markdown",
   "metadata": {},
   "source": [
    "Then we delete the current forwarding rules"
   ]
  },
  {
   "cell_type": "code",
   "execution_count": null,
   "metadata": {
    "collapsed": false
   },
   "outputs": [],
   "source": [
    "import os\n",
    "result = os.popen(\"gcloud compute forwarding-rules list\").read()\n",
    "forwarding_rules = [x.split(' ')[0] for x in result.split('\\n')[1:-1]]\n",
    "for fr in forwarding_rules:\n",
    "    print 'Deleting rule {}...'.format(fr)\n",
    "    os.system(\"gcloud compute forwarding-rules delete {} --quiet\".format(fr))\n",
    "    print 'Deleted.'"
   ]
  },
  {
   "cell_type": "markdown",
   "metadata": {},
   "source": [
    "Create a new cluster"
   ]
  },
  {
   "cell_type": "code",
   "execution_count": null,
   "metadata": {
    "collapsed": false
   },
   "outputs": [],
   "source": [
    "!gcloud container --project \"seldon-demo\" clusters create \"seldon-demo-cluster\" \\\n",
    "    --zone \"europe-west1-b\" --machine-type \"n1-standard-4\" \\\n",
    "    --scopes \"https://www.googleapis.com/auth/compute\",\"https://www.googleapis.com/auth/devstorage.read_only\",\"https://www.googleapis.com/auth/logging.write\",\"https://www.googleapis.com/auth/servicecontrol\",\"https://www.googleapis.com/auth/service.management.readonly\" \\\n",
    "    --num-nodes \"1\" --network \"default\" --enable-cloud-logging --no-enable-cloud-monitoring \\\n",
    "    --image-type=container_vm\n"
   ]
  },
  {
   "cell_type": "code",
   "execution_count": null,
   "metadata": {
    "collapsed": true
   },
   "outputs": [],
   "source": []
  },
  {
   "cell_type": "markdown",
   "metadata": {},
   "source": [
    "# Set Up"
   ]
  },
  {
   "cell_type": "markdown",
   "metadata": {},
   "source": [
    "We create the weave pods on the cluster (probe and app)"
   ]
  },
  {
   "cell_type": "code",
   "execution_count": null,
   "metadata": {
    "collapsed": false
   },
   "outputs": [],
   "source": [
    "!kubectl create -f 'https://scope.weave.works/launch/k8s/weavescope.yaml' --validate=false"
   ]
  },
  {
   "cell_type": "markdown",
   "metadata": {},
   "source": [
    "We expose the weave app pod externally"
   ]
  },
  {
   "cell_type": "code",
   "execution_count": null,
   "metadata": {
    "collapsed": false
   },
   "outputs": [],
   "source": [
    "%%bash\n",
    "pod=$(kubectl get pod --selector=weavescope-component=weavescope-app -o jsonpath={.items..metadata.name})\n",
    "kubectl expose pod $pod --type=\"LoadBalancer\" --port=4040 --target-port=4040 "
   ]
  },
  {
   "cell_type": "markdown",
   "metadata": {},
   "source": [
    "The Weave scope app will be available on the ip address and port listed under EXTERNAL-IP and PORT(S) in the table below"
   ]
  },
  {
   "cell_type": "code",
   "execution_count": null,
   "metadata": {
    "collapsed": false
   },
   "outputs": [],
   "source": [
    "%%bash\n",
    "pod=$(kubectl get pod --selector=weavescope-component=weavescope-app -o jsonpath={.items..metadata.name})\n",
    "kubectl get services $pod"
   ]
  },
  {
   "cell_type": "markdown",
   "metadata": {},
   "source": [
    "We start seldon on the new cluster (takes 5+ minutes)"
   ]
  },
  {
   "cell_type": "code",
   "execution_count": null,
   "metadata": {
    "collapsed": false
   },
   "outputs": [],
   "source": [
    "!/home/ubuntu/git/seldon-server/kubernetes/bin/seldon-up.sh"
   ]
  },
  {
   "cell_type": "code",
   "execution_count": null,
   "metadata": {
    "collapsed": false,
    "scrolled": true
   },
   "outputs": [],
   "source": [
    "!kubectl get services"
   ]
  },
  {
   "cell_type": "code",
   "execution_count": null,
   "metadata": {
    "collapsed": true
   },
   "outputs": [],
   "source": []
  }
 ],
 "metadata": {
  "anaconda-cloud": {},
  "kernelspec": {
   "display_name": "Python [Root]",
   "language": "python",
   "name": "Python [Root]"
  },
  "language_info": {
   "codemirror_mode": {
    "name": "ipython",
    "version": 2
   },
   "file_extension": ".py",
   "mimetype": "text/x-python",
   "name": "python",
   "nbconvert_exporter": "python",
   "pygments_lexer": "ipython2",
   "version": "2.7.12"
  }
 },
 "nbformat": 4,
 "nbformat_minor": 1
}
